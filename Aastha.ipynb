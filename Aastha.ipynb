{
  "nbformat": 4,
  "nbformat_minor": 0,
  "metadata": {
    "colab": {
      "name": "Aastha.ipynb",
      "provenance": []
    },
    "kernelspec": {
      "name": "python3",
      "display_name": "Python 3"
    },
    "language_info": {
      "name": "python"
    }
  },
  "cells": [
    {
      "cell_type": "code",
      "metadata": {
        "colab": {
          "base_uri": "https://localhost:8080/"
        },
        "id": "_iF0kHdyUnVV",
        "outputId": "acfd2dc3-79af-402a-def6-94c344a82d65"
      },
      "source": [
        "#//JSMJ\n",
        "\n",
        "#/numpy--      pandas --manuplate on table data  \n",
        "#//sklearn--ML framework\n",
        "#//boston dataset \n",
        "import numpy as np\n",
        "import pandas as pd\n",
        "import sklearn\n",
        "from sklearn.datasets import load_boston \n",
        "df=load_boston()   #entire databes in df\n",
        "\n",
        "df.keys()   #return all the keys of dataset dictionary\n",
        "#print(df.DESCR) #info about the dataset /meta data\n",
        "# print(df.filename)\n",
        "# print(df.feature_names)\n",
        "# print(df.target)    #prices of houses\n",
        "# print(df.data)\n",
        "\n",
        "boston =pd.DataFrame(df.data,columns=df.feature_names)\n",
        "# boston.head()  # first 5 lines by defult\n",
        "# boston.head(3)   #first 3 lines\n",
        "\n",
        "# dataframe is tabular presentation of data easily handled by pandas\n",
        "boston['MEDV']=df.target\n",
        "# boston.head(2)\n",
        "# boston.isnull()   #give whole tbale contain tru aanf false\n",
        "boston.isnull().sum()\n",
        "\n",
        "\n",
        "from sklearn.model_selection import train_test_split\n",
        "# split entire data in training data and testing data\n",
        "\n",
        "x= boston.drop('MEDV',axis=1) #contain all olumn except medv\n",
        "# axis=0 drop complete row\n",
        "# axis =1 drop complete column\n",
        "y=boston['MEDV']   #target value[that u want to predict]\n",
        "\n",
        "x_train,x_test,y_train,y_test= train_test_split(x,y,test_size=0.15,random_state=5)\n",
        "#tuple\n",
        "\n",
        "print(x_train.shape)    #[SHAPE =NO. OF ROWS AND COMLUMN]\n",
        "print(x_test.shape)\n",
        "print(y_train.shape)\n",
        "print(y_test.shape)\n",
        "\n",
        "from sklearn.linear_model import LinearRegression\n",
        "from sklearn.metrics import mean_squared_error\n",
        "lin_model=LinearRegression()   #ML MODEL MADE\n",
        "\n",
        "lin_model.fit(x_train,y_train)  #FEEED DATA TO  ML MODEL\n",
        "\n",
        "y_train_predict = lin_model.predict(x_train)\n",
        "rmse=(np.sqrt(mean_squared_error(y_train,y_train_predict)))\n",
        "\n",
        "print(\"The model performance for traning set\")\n",
        "print(\"RMSE IS {}\".format(rmse))\n",
        "print(\"\\n\")\n",
        "\n",
        "#o testing set\n",
        "y_test_predict = lin_model.predict(x_test)\n",
        "rmse=(np.sqrt(mean_squared_error(y_test,y_test_predict)))\n",
        "\n",
        "print(\"The model performance for testing set\")\n",
        "print(\"RMSE IS {}\".format(rmse))\n",
        "print(\"\\n\")\n"
      ],
      "execution_count": 16,
      "outputs": [
        {
          "output_type": "stream",
          "text": [
            "(430, 13)\n",
            "(76, 13)\n",
            "(430,)\n",
            "(76,)\n",
            "The model performance for traning set\n",
            "RMSE IS 4.710901797319796\n",
            "\n",
            "\n",
            "The model performance for testing set\n",
            "RMSE IS 4.687543527902972\n",
            "\n",
            "\n"
          ],
          "name": "stdout"
        }
      ]
    }
  ]
}